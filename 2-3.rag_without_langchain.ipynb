{
 "cells": [
  {
   "cell_type": "markdown",
   "metadata": {},
   "source": [
    "<!-- # 아젠다\n",
    "# \n",
    "# 1.문서의 내용을 읽는다\n",
    "# 2.문서를 쪼갠다\n",
    "#     토큰수 초과로 답변을 못할수 있고\n",
    "#     문서가 길면(인풋이 길면) 답변 생성이 오래걸림\n",
    "# 3.임베딩 -> 백터 데이터베이스의 저장\n",
    "# 4.저장한 백터 데이터베이스의 유사도 검색\n",
    "# 5.검색해서 가져온 문서를 LLM에 질문과 같이 전달 -->"
   ]
  },
  {
   "cell_type": "markdown",
   "metadata": {},
   "source": [
    "# 1.문서의 내용을 읽는다"
   ]
  },
  {
   "cell_type": "code",
   "execution_count": null,
   "metadata": {},
   "outputs": [],
   "source": [
    "%pip install python-docx"
   ]
  },
  {
   "cell_type": "code",
   "execution_count": null,
   "metadata": {},
   "outputs": [],
   "source": [
    "from docx import Document\n",
    "\n",
    "document = Document('./tax.docx')\n",
    "\n",
    "# document\n",
    "\n",
    "# print(f'document == {dir(document)}')\n",
    "full_text = ''\n",
    "for index , paragraph in enumerate(document.paragraphs):\n",
    "    print(f'document == {paragraph.text}')\n",
    "    full_text += f'{paragraph.text}\\n'"
   ]
  },
  {
   "cell_type": "markdown",
   "metadata": {},
   "source": [
    "# 2.문서를 쪼갠다"
   ]
  },
  {
   "cell_type": "code",
   "execution_count": null,
   "metadata": {},
   "outputs": [],
   "source": [
    "%pip install tiktoken"
   ]
  },
  {
   "cell_type": "code",
   "execution_count": 20,
   "metadata": {},
   "outputs": [],
   "source": [
    "import tiktoken\n",
    "\n",
    "\n",
    "# 프롬프트 문장생성 ctrl + shift + a\n",
    "\n",
    "def split_text(full_text , chunk_size):\n",
    "    encoder = tiktoken.encoding_for_model('gpt-3.5-turbo')\n",
    "    total_encoding = encoder.encode(full_text)\n",
    "    total_token_count = len(total_encoding)\n",
    "    \n",
    "    text_list = []\n",
    "    \n",
    "    for i in range(0 , total_token_count , chunk_size):\n",
    "        chunk = total_encoding[i : i + chunk_size]\n",
    "        decoded = encoder.decode(chunk)\n",
    "        text_list.append(decoded)\n",
    "        \n",
    "    return text_list\n",
    "    \n",
    "\n"
   ]
  },
  {
   "cell_type": "code",
   "execution_count": 36,
   "metadata": {},
   "outputs": [],
   "source": [
    "chunk_list = split_text(full_text , 1500)"
   ]
  },
  {
   "cell_type": "markdown",
   "metadata": {},
   "source": [
    "# 3.임베딩"
   ]
  },
  {
   "cell_type": "code",
   "execution_count": 25,
   "metadata": {},
   "outputs": [],
   "source": [
    "\n",
    "import chromadb\n",
    "\n",
    "chroma_client = chromadb.Client()\n"
   ]
  },
  {
   "cell_type": "code",
   "execution_count": 27,
   "metadata": {},
   "outputs": [],
   "source": [
    "collection_name = 'tax_collection'\n",
    "taxx_collection = chroma_client.create_collection(collection_name)\n"
   ]
  },
  {
   "cell_type": "code",
   "execution_count": 32,
   "metadata": {},
   "outputs": [],
   "source": [
    "from dotenv import load_dotenv\n",
    "from chromadb.utils.embedding_functions import OpenAIEmbeddingFunction\n",
    "import os\n",
    "openai_api_key = os.environ['OPENAI_API_KEY']\n",
    "openai_embedding = OpenAIEmbeddingFunction(model_name='text-embedding-3-large' , api_key= openai_api_key)"
   ]
  },
  {
   "cell_type": "code",
   "execution_count": 44,
   "metadata": {},
   "outputs": [],
   "source": [
    "tax_collection = chroma_client.get_or_create_collection(collection_name , embedding_function=openai_embedding)"
   ]
  },
  {
   "cell_type": "code",
   "execution_count": 45,
   "metadata": {},
   "outputs": [],
   "source": [
    "id_list = []\n",
    "for index in range(len(chunk_list)):\n",
    "    id_list.append(f'{index}')"
   ]
  },
  {
   "cell_type": "code",
   "execution_count": null,
   "metadata": {},
   "outputs": [],
   "source": [
    "len(id_list)"
   ]
  },
  {
   "cell_type": "code",
   "execution_count": null,
   "metadata": {},
   "outputs": [],
   "source": [
    "len(chunk_list)\n",
    "\n",
    "\n",
    "\n"
   ]
  },
  {
   "cell_type": "code",
   "execution_count": 46,
   "metadata": {},
   "outputs": [],
   "source": [
    "tax_collection.add(documents=chunk_list , ids=id_list)"
   ]
  },
  {
   "cell_type": "markdown",
   "metadata": {},
   "source": [
    "# 4.유사도 검색"
   ]
  },
  {
   "cell_type": "code",
   "execution_count": null,
   "metadata": {},
   "outputs": [],
   "source": [
    "query = '연봉 5천만원인 직장인의 소득세는 얼마인가요?'\n",
    "\n",
    "retrived_doc = tax_collection.query(query_texts=query) \n",
    "\n",
    "retrived_doc['documents'][0]"
   ]
  },
  {
   "cell_type": "markdown",
   "metadata": {},
   "source": [
    "# 5.LLM 질의"
   ]
  },
  {
   "cell_type": "code",
   "execution_count": 73,
   "metadata": {},
   "outputs": [],
   "source": [
    "from openai import OpenAI\n",
    "client = OpenAI()\n",
    "\n",
    "response = client.chat.completions.create(\n",
    "    model='gpt-3.5-turbo',\n",
    "    messages=[\n",
    "        {\"role\" : \"system\" , \"content\" : f\"당신은 최고의 한국 소득세 전문가 입니다. {retrived_doc['documents'][0]}\"},\n",
    "        {\"role\": \"user\",\"content\": query}\n",
    "     \n",
    "    ]\n",
    "\n",
    ")"
   ]
  },
  {
   "cell_type": "code",
   "execution_count": null,
   "metadata": {},
   "outputs": [],
   "source": [
    "response.choices[0].message.content"
   ]
  }
 ],
 "metadata": {
  "kernelspec": {
   "display_name": ".venv",
   "language": "python",
   "name": "python3"
  },
  "language_info": {
   "codemirror_mode": {
    "name": "ipython",
    "version": 3
   },
   "file_extension": ".py",
   "mimetype": "text/x-python",
   "name": "python",
   "nbconvert_exporter": "python",
   "pygments_lexer": "ipython3",
   "version": "3.11.1"
  }
 },
 "nbformat": 4,
 "nbformat_minor": 2
}
