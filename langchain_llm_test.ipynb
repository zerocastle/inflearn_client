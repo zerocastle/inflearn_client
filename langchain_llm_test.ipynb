{
 "cells": [
  {
   "cell_type": "code",
   "execution_count": 2,
   "metadata": {},
   "outputs": [
    {
     "data": {
      "text/plain": [
       "True"
      ]
     },
     "execution_count": 2,
     "metadata": {},
     "output_type": "execute_result"
    }
   ],
   "source": [
    "from dotenv import load_dotenv\n",
    "\n",
    "load_dotenv(dotenv_path='.venv/pyvenv.cfg')"
   ]
  },
  {
   "cell_type": "code",
   "execution_count": 8,
   "metadata": {},
   "outputs": [
    {
     "data": {
      "text/plain": [
       "'A4 용지에 인쇄할 때 한 페이지에 맞출 수 없는 경우가 있습니다. 그렇지만 프린터 설정을 통해 A4 용지에 인쇄할 때 한 페이지에 맞출 수 있도록 조정할 수 있습니다.\\n\\n1. 우선 인쇄할 문서를 열고 인쇄할 부분을 선택합니다.\\n2. 인쇄 설정 창을 엽니다. 보통 파일 메뉴나 인쇄 단추를 클릭하여 열 수 있습니다.\\n3. 페이지 설정이나 용지 설정과 같은 항목을 찾아 선택합니다.\\n4. 용지 크기를 A4로 설정합니다.\\n5. 페이지 레이아웃이나 여백 조정과 같은 옵션을 찾아 선택합니다.\\n6. 페이지 수를 1로 설정하거나, 페이지에 맞춘 인쇄 옵션을 선택합니다.\\n7. 인쇄를 클릭하여 프린팅합니다.\\n\\n이렇게 설정을 변경하면 A4 용지에 한 페이지에 맞출 수 있도록 프린팅할 수 있습니다. 만약 여전히 한 페이지에 맞춰지지 않는다면, 문서 크기를 조정하거나 인쇄할 내용을 줄여서 다시 시도해 보세요.'"
      ]
     },
     "execution_count": 8,
     "metadata": {},
     "output_type": "execute_result"
    }
   ],
   "source": [
    "from langchain_openai import ChatOpenAI\n",
    "\n",
    "llm = ChatOpenAI()\n",
    "    \n",
    "    \n",
    "\n",
    "llm.invoke(\"excel a4한장에 나올수 있도록 프린트 하는 방법 알려줘\").content"
   ]
  },
  {
   "cell_type": "code",
   "execution_count": null,
   "metadata": {},
   "outputs": [],
   "source": []
  }
 ],
 "metadata": {
  "kernelspec": {
   "display_name": ".venv",
   "language": "python",
   "name": "python3"
  },
  "language_info": {
   "codemirror_mode": {
    "name": "ipython",
    "version": 3
   },
   "file_extension": ".py",
   "mimetype": "text/x-python",
   "name": "python",
   "nbconvert_exporter": "python",
   "pygments_lexer": "ipython3",
   "version": "3.11.1"
  }
 },
 "nbformat": 4,
 "nbformat_minor": 2
}
