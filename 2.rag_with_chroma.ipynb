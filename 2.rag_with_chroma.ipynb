{
 "cells": [
  {
   "cell_type": "code",
   "execution_count": 2,
   "metadata": {},
   "outputs": [
    {
     "name": "stdout",
     "output_type": "stream",
     "text": [
      "Note: you may need to restart the kernel to use updated packages.\n"
     ]
    },
    {
     "name": "stderr",
     "output_type": "stream",
     "text": [
      "WARNING: There was an error checking the latest version of pip.\n"
     ]
    }
   ],
   "source": [
    "\n",
    "\n",
    "%pip install --upgrade --quiet  docx2txt langchain-community"
   ]
  },
  {
   "cell_type": "code",
   "execution_count": 31,
   "metadata": {},
   "outputs": [],
   "source": [
    "from langchain_community.document_loaders import Docx2txtLoader\n",
    "from langchain_text_splitters import RecursiveCharacterTextSplitter\n",
    "\n",
    "text_splitter = RecursiveCharacterTextSplitter(\n",
    "    chunk_size=1500,\n",
    "    chunk_overlap=200,\n",
    ")\n",
    "\n",
    "loader = Docx2txtLoader('./tax.docx')\n",
    "documentList = loader.load_and_split(text_splitter=text_splitter)"
   ]
  },
  {
   "cell_type": "code",
   "execution_count": 26,
   "metadata": {},
   "outputs": [],
   "source": [
    "\n",
    "from dotenv import load_dotenv\n",
    "from langchain_openai import OpenAIEmbeddings\n",
    "load_dotenv(dotenv_path='.venv/pyvenv.cfg')\n",
    "embedding = OpenAIEmbeddings(model='text-embedding-3-large')"
   ]
  },
  {
   "cell_type": "code",
   "execution_count": 27,
   "metadata": {},
   "outputs": [
    {
     "ename": "NameError",
     "evalue": "name 'documentList' is not defined",
     "output_type": "error",
     "traceback": [
      "\u001b[1;31m---------------------------------------------------------------------------\u001b[0m",
      "\u001b[1;31mNameError\u001b[0m                                 Traceback (most recent call last)",
      "Cell \u001b[1;32mIn[27], line 3\u001b[0m\n\u001b[0;32m      1\u001b[0m \u001b[38;5;28;01mfrom\u001b[39;00m\u001b[38;5;250m \u001b[39m\u001b[38;5;21;01mlangchain_chroma\u001b[39;00m\u001b[38;5;250m \u001b[39m\u001b[38;5;28;01mimport\u001b[39;00m Chroma\n\u001b[1;32m----> 3\u001b[0m database \u001b[38;5;241m=\u001b[39m Chroma\u001b[38;5;241m.\u001b[39mfrom_documents(persist_directory\u001b[38;5;241m=\u001b[39m\u001b[38;5;124m\"\u001b[39m\u001b[38;5;124m./chroma\u001b[39m\u001b[38;5;124m\"\u001b[39m, collection_name\u001b[38;5;241m=\u001b[39m\u001b[38;5;124m'\u001b[39m\u001b[38;5;124mchroma-tax\u001b[39m\u001b[38;5;124m'\u001b[39m, documents\u001b[38;5;241m=\u001b[39m\u001b[43mdocumentList\u001b[49m , embedding\u001b[38;5;241m=\u001b[39membedding)\n",
      "\u001b[1;31mNameError\u001b[0m: name 'documentList' is not defined"
     ]
    }
   ],
   "source": [
    "from langchain_chroma import Chroma\n",
    "\n",
    "database = Chroma.from_documents(persist_directory=\"./chroma\", collection_name='chroma-tax', documents=documentList , embedding=embedding)"
   ]
  },
  {
   "cell_type": "code",
   "execution_count": 38,
   "metadata": {},
   "outputs": [
    {
     "data": {
      "text/plain": [
       "[Document(id='284bd903-bb85-4f28-8194-ee60f2a2bd6d', metadata={'source': './tax.docx'}, page_content='1. 「공익신탁법」에 따른 공익신탁의 이익\\n\\n2. 사업소득 중 다음 각 목의 어느 하나에 해당하는 소득\\n\\n가. 논ㆍ밭을 작물 생산에 이용하게 함으로써 발생하는 소득\\n\\n나. 1개의 주택을 소유하는 자의 주택임대소득(제99조에 따른 기준시가가 12억원을 초과하는 주택 및 국외에 소재하는 주택의 임대소득은 제외한다) 또는 해당 과세기간에 대통령령으로 정하는 총수입금액의 합계액이 2천만원 이하인 자의 주택임대소득(2018년 12월 31일 이전에 끝나는 과세기간까지 발생하는 소득으로 한정한다). 이 경우 주택 수의 계산 및 주택임대소득의 산정 등 필요한 사항은 대통령령으로 정한다.\\n\\n다. 대통령령으로 정하는 농어가부업소득\\n\\n라. 대통령령으로 정하는 전통주의 제조에서 발생하는 소득\\n\\n마. 조림기간 5년 이상인 임지(林地)의 임목(林木)의 벌채 또는 양도로 발생하는 소득으로서 연 600만원 이하의 금액. 이 경우 조림기간 및 세액의 계산 등 필요한 사항은 대통령령으로 정한다.\\n\\n바. 대통령령으로 정하는 작물재배업에서 발생하는 소득\\n\\n사. 대통령령으로 정하는 어로어업 또는 양식어업에서 발생하는 소득\\n\\n3. 근로소득과 퇴직소득 중 다음 각 목의 어느 하나에 해당하는 소득\\n\\n가. 대통령령으로 정하는 복무 중인 병(兵)이 받는 급여\\n\\n나. 법률에 따라 동원된 사람이 그 동원 직장에서 받는 급여\\n\\n다. 「산업재해보상보험법」에 따라 수급권자가 받는 요양급여, 휴업급여, 장해급여, 간병급여, 유족급여, 유족특별급여, 장해특별급여, 장의비 또는 근로의 제공으로 인한 부상ㆍ질병ㆍ사망과 관련하여 근로자나 그 유족이 받는 배상ㆍ보상 또는 위자(慰藉)의 성질이 있는 급여\\n\\n라. 「근로기준법」 또는 「선원법」에 따라 근로자ㆍ선원 및 그 유족이 받는 요양보상금, 휴업보상금, 상병보상금(傷病補償金), 일시보상금, 장해보상금, 유족보상금, 행방불명보상금, 소지품 유실보상금, 장의비 및 장제비\\n\\n마. 「고용보험법」에 따라 받는 실업급여, 육아휴직 급여, 육아기 근로시간 단축 급여, 출산전후휴가 급여등, 「제대군인 지원에 관한 법률」에 따라 받는 전직지원금, 「국가공무원법」ㆍ「지방공무원법」에 따른 공무원 또는 「사립학교교직원 연금법」ㆍ「별정우체국법」을 적용받는 사람이 관련 법령에 따라 받는 육아휴직수당(「사립학교법」 제70조의2에 따라 임명된 사무직원이 학교의 정관 또는 규칙에 따라 지급받는 육아휴직수당으로서 대통령령으로 정하는 금액 이하의 것을 포함한다)\\n\\n바. 「국민연금법」에 따라 받는 반환일시금(사망으로 받는 것만 해당한다) 및 사망일시금'),\n",
       " Document(id='49705073-7f28-40c8-a4ac-ac507ec6ec23', metadata={'source': './tax.docx'}, page_content='1. 「공익신탁법」에 따른 공익신탁의 이익\\n\\n2. 사업소득 중 다음 각 목의 어느 하나에 해당하는 소득\\n\\n가. 논ㆍ밭을 작물 생산에 이용하게 함으로써 발생하는 소득\\n\\n나. 1개의 주택을 소유하는 자의 주택임대소득(제99조에 따른 기준시가가 12억원을 초과하는 주택 및 국외에 소재하는 주택의 임대소득은 제외한다) 또는 해당 과세기간에 대통령령으로 정하는 총수입금액의 합계액이 2천만원 이하인 자의 주택임대소득(2018년 12월 31일 이전에 끝나는 과세기간까지 발생하는 소득으로 한정한다). 이 경우 주택 수의 계산 및 주택임대소득의 산정 등 필요한 사항은 대통령령으로 정한다.\\n\\n다. 대통령령으로 정하는 농어가부업소득\\n\\n라. 대통령령으로 정하는 전통주의 제조에서 발생하는 소득\\n\\n마. 조림기간 5년 이상인 임지(林地)의 임목(林木)의 벌채 또는 양도로 발생하는 소득으로서 연 600만원 이하의 금액. 이 경우 조림기간 및 세액의 계산 등 필요한 사항은 대통령령으로 정한다.\\n\\n바. 대통령령으로 정하는 작물재배업에서 발생하는 소득\\n\\n사. 대통령령으로 정하는 어로어업 또는 양식어업에서 발생하는 소득\\n\\n3. 근로소득과 퇴직소득 중 다음 각 목의 어느 하나에 해당하는 소득\\n\\n가. 대통령령으로 정하는 복무 중인 병(兵)이 받는 급여\\n\\n나. 법률에 따라 동원된 사람이 그 동원 직장에서 받는 급여\\n\\n다. 「산업재해보상보험법」에 따라 수급권자가 받는 요양급여, 휴업급여, 장해급여, 간병급여, 유족급여, 유족특별급여, 장해특별급여, 장의비 또는 근로의 제공으로 인한 부상ㆍ질병ㆍ사망과 관련하여 근로자나 그 유족이 받는 배상ㆍ보상 또는 위자(慰藉)의 성질이 있는 급여\\n\\n라. 「근로기준법」 또는 「선원법」에 따라 근로자ㆍ선원 및 그 유족이 받는 요양보상금, 휴업보상금, 상병보상금(傷病補償金), 일시보상금, 장해보상금, 유족보상금, 행방불명보상금, 소지품 유실보상금, 장의비 및 장제비\\n\\n마. 「고용보험법」에 따라 받는 실업급여, 육아휴직 급여, 육아기 근로시간 단축 급여, 출산전후휴가 급여등, 「제대군인 지원에 관한 법률」에 따라 받는 전직지원금, 「국가공무원법」ㆍ「지방공무원법」에 따른 공무원 또는 「사립학교교직원 연금법」ㆍ「별정우체국법」을 적용받는 사람이 관련 법령에 따라 받는 육아휴직수당(「사립학교법」 제70조의2에 따라 임명된 사무직원이 학교의 정관 또는 규칙에 따라 지급받는 육아휴직수당으로서 대통령령으로 정하는 금액 이하의 것을 포함한다)\\n\\n바. 「국민연금법」에 따라 받는 반환일시금(사망으로 받는 것만 해당한다) 및 사망일시금'),\n",
       " Document(id='37acd313-0bda-4e2a-8852-5b5a2b3c2650', metadata={'source': './tax.docx'}, page_content='1) 근로자(사용자와 대통령령으로 정하는 특수관계에 있는 자는 제외한다) 또는 그 배우자의 출산과 관련하여 자녀의 출생일 이후 2년 이내에 사용자로부터 대통령령으로 정하는 바에 따라 최대 두 차례에 걸쳐 지급받는 급여(2021년 1월 1일 이후 출생한 자녀에 대하여 2024년 1월 1일부터 2024년 12월 31일 사이에 지급받은 급여를 포함한다) 전액\\n\\n2) 근로자 또는 그 배우자의 해당 과세기간 개시일을 기준으로 6세 이하(6세가 되는 날과 그 이전 기간을 말한다. 이하 이 조 및 제59조의4에서 같다)인 자녀의 보육과 관련하여 사용자로부터 지급받는 급여로서 월 20만원 이내의 금액\\n\\n버. 「국군포로의 송환 및 대우 등에 관한 법률」에 따른 국군포로가 받는 보수 및 퇴직일시금\\n\\n서. 「교육기본법」 제28조제1항에 따라 받는 장학금 중 대학생이 근로를 대가로 지급받는 장학금(「고등교육법」 제2조제1호부터 제4호까지의 규정에 따른 대학에 재학하는 대학생에 한정한다)\\n\\n어. 「발명진흥법」 제2조제2호에 따른 직무발명으로 받는 다음의 보상금(이하 “직무발명보상금”이라 한다)으로서 대통령령으로 정하는 금액\\n\\n\\u3000\\u3000\\u30001) 「발명진흥법」 제2조제2호에 따른 종업원등(이하 이 조, 제20조 및 제21조에서 “종업원등”이라 한다)이 같은 호에 따른 사용자등(이하 이 조에서 “사용자등”이라 한다)으로부터 받는 보상금. 다만, 보상금을 지급한 사용자등과 대통령령으로 정하는 특수관계에 있는 자가 받는 보상금은 제외한다.\\n\\n\\u3000\\u3000\\u30002) 대학의 교직원 또는 대학과 고용관계가 있는 학생이 소속 대학에 설치된 「산업교육진흥 및 산학연협력촉진에 관한 법률」 제25조에 따른 산학협력단(이하 이 조에서 “산학협력단”이라 한다)으로부터 같은 법 제32조제1항제4호에 따라 받는 보상금\\n\\n저. 대통령령으로 정하는 복리후생적 성질의 급여\\n\\n처. 제20조제1항제6호에 따른 소득 중 다음의 요건을 모두 충족하는 소득으로서 대통령령으로 정하는 금액 이하의 금액\\n\\n1) 임원 또는 종업원(이하 이 조, 제20조 및 제164조의5에서 “임원등”이라 한다) 본인이 소비하는 것을 목적으로 제공받거나 지원을 받아 구입한 재화 또는 용역으로서 대통령령으로 정하는 기간 동안 재판매가 허용되지 아니할 것\\n\\n2) 해당 재화 또는 용역의 제공과 관련하여 모든 임원등에게 공통으로 적용되는 기준이 있을 것\\n\\n4. 연금소득 중 다음 각 목의 어느 하나에 해당하는 소득\\n\\n가. 「국민연금법」, 「공무원연금법」 또는 「공무원 재해보상법」, 「군인연금법」 또는 「군인 재해보상법」, 「사립학교교직원 연금법」, 「별정우체국법」 또는 「국민연금과 직역연금의 연계에 관한 법률」(이하 “공적연금 관련법”이라 한다)에 따라 받는 유족연금ㆍ퇴직유족연금ㆍ퇴역유족연금ㆍ장해유족연금ㆍ상이유족연금ㆍ순직유족연금ㆍ직무상유족연금ㆍ위험직무순직유족연금, 장애연금, 장해연금ㆍ비공무상 장해연금ㆍ비직무상 장해연금, 상이연금(傷痍年金), 연계노령유족연금 또는 연계퇴직유족연금\\n\\n나. 삭제<2013. 1. 1.>'),\n",
       " Document(id='e9fac3bd-52eb-4610-88d0-1d6cc31ac826', metadata={'source': './tax.docx'}, page_content='1) 근로자(사용자와 대통령령으로 정하는 특수관계에 있는 자는 제외한다) 또는 그 배우자의 출산과 관련하여 자녀의 출생일 이후 2년 이내에 사용자로부터 대통령령으로 정하는 바에 따라 최대 두 차례에 걸쳐 지급받는 급여(2021년 1월 1일 이후 출생한 자녀에 대하여 2024년 1월 1일부터 2024년 12월 31일 사이에 지급받은 급여를 포함한다) 전액\\n\\n2) 근로자 또는 그 배우자의 해당 과세기간 개시일을 기준으로 6세 이하(6세가 되는 날과 그 이전 기간을 말한다. 이하 이 조 및 제59조의4에서 같다)인 자녀의 보육과 관련하여 사용자로부터 지급받는 급여로서 월 20만원 이내의 금액\\n\\n버. 「국군포로의 송환 및 대우 등에 관한 법률」에 따른 국군포로가 받는 보수 및 퇴직일시금\\n\\n서. 「교육기본법」 제28조제1항에 따라 받는 장학금 중 대학생이 근로를 대가로 지급받는 장학금(「고등교육법」 제2조제1호부터 제4호까지의 규정에 따른 대학에 재학하는 대학생에 한정한다)\\n\\n어. 「발명진흥법」 제2조제2호에 따른 직무발명으로 받는 다음의 보상금(이하 “직무발명보상금”이라 한다)으로서 대통령령으로 정하는 금액\\n\\n\\u3000\\u3000\\u30001) 「발명진흥법」 제2조제2호에 따른 종업원등(이하 이 조, 제20조 및 제21조에서 “종업원등”이라 한다)이 같은 호에 따른 사용자등(이하 이 조에서 “사용자등”이라 한다)으로부터 받는 보상금. 다만, 보상금을 지급한 사용자등과 대통령령으로 정하는 특수관계에 있는 자가 받는 보상금은 제외한다.\\n\\n\\u3000\\u3000\\u30002) 대학의 교직원 또는 대학과 고용관계가 있는 학생이 소속 대학에 설치된 「산업교육진흥 및 산학연협력촉진에 관한 법률」 제25조에 따른 산학협력단(이하 이 조에서 “산학협력단”이라 한다)으로부터 같은 법 제32조제1항제4호에 따라 받는 보상금\\n\\n저. 대통령령으로 정하는 복리후생적 성질의 급여\\n\\n처. 제20조제1항제6호에 따른 소득 중 다음의 요건을 모두 충족하는 소득으로서 대통령령으로 정하는 금액 이하의 금액\\n\\n1) 임원 또는 종업원(이하 이 조, 제20조 및 제164조의5에서 “임원등”이라 한다) 본인이 소비하는 것을 목적으로 제공받거나 지원을 받아 구입한 재화 또는 용역으로서 대통령령으로 정하는 기간 동안 재판매가 허용되지 아니할 것\\n\\n2) 해당 재화 또는 용역의 제공과 관련하여 모든 임원등에게 공통으로 적용되는 기준이 있을 것\\n\\n4. 연금소득 중 다음 각 목의 어느 하나에 해당하는 소득\\n\\n가. 「국민연금법」, 「공무원연금법」 또는 「공무원 재해보상법」, 「군인연금법」 또는 「군인 재해보상법」, 「사립학교교직원 연금법」, 「별정우체국법」 또는 「국민연금과 직역연금의 연계에 관한 법률」(이하 “공적연금 관련법”이라 한다)에 따라 받는 유족연금ㆍ퇴직유족연금ㆍ퇴역유족연금ㆍ장해유족연금ㆍ상이유족연금ㆍ순직유족연금ㆍ직무상유족연금ㆍ위험직무순직유족연금, 장애연금, 장해연금ㆍ비공무상 장해연금ㆍ비직무상 장해연금, 상이연금(傷痍年金), 연계노령유족연금 또는 연계퇴직유족연금\\n\\n나. 삭제<2013. 1. 1.>')]"
      ]
     },
     "execution_count": 38,
     "metadata": {},
     "output_type": "execute_result"
    }
   ],
   "source": [
    "query = '연봉 5천만원인 직장인의 소득세는 얼마인가요?'\n",
    "\n",
    "\n",
    "retrived_docs = database.similarity_search(query)\n",
    "\n",
    "retrived_docs"
   ]
  },
  {
   "cell_type": "code",
   "execution_count": 39,
   "metadata": {},
   "outputs": [],
   "source": [
    "from langchain_openai import ChatOpenAI\n",
    "\n",
    "llm = ChatOpenAI(model='gpt-3.5-turbo')"
   ]
  },
  {
   "cell_type": "code",
   "execution_count": 40,
   "metadata": {},
   "outputs": [],
   "source": [
    "prompt = f\"\"\"[Identity]\n",
    "\n",
    "- 당신은 최고의 한국 소득세 전문가 입니다.\n",
    "- [Context]\n",
    "{retrived_docs}\n",
    "\n",
    "Question: {query}\n",
    "\"\"\""
   ]
  },
  {
   "cell_type": "code",
   "execution_count": 41,
   "metadata": {},
   "outputs": [
    {
     "data": {
      "text/plain": [
       "'연봉 5천만원인 직장인의 소득세는 대통령령으로 정해진 세율에 따라 계산됩니다. 세율은 소득에 따라 다르며, 일반적으로 소득이 증가할수록 세율도 증가합니다. 따라서 정확한 소득세 계산을 위해서는 해당 국가의 세법을 확인하고 해당 연봉에 대한 세율을 적용하여 계산해야 합니다. 세부적인 세금 계산을 위해서는 해당 국가의 세법을 상세히 살펴보는 것이 필요합니다.'"
      ]
     },
     "execution_count": 41,
     "metadata": {},
     "output_type": "execute_result"
    }
   ],
   "source": [
    "ai_message = llm.invoke(prompt)\n",
    "\n",
    "\n",
    "ai_message.content"
   ]
  },
  {
   "cell_type": "code",
   "execution_count": 29,
   "metadata": {},
   "outputs": [],
   "source": [
    "\n",
    "#============= langchain hub를 활용 RetrievalQA ====================\n",
    "from langchain_chroma import Chroma\n",
    "\n",
    "database = Chroma(collection_name='chroma-tax' , persist_directory=\"./chroma\" , embedding_function=embedding)"
   ]
  },
  {
   "cell_type": "code",
   "execution_count": 30,
   "metadata": {},
   "outputs": [],
   "source": [
    "from langchain_openai import ChatOpenAI\n",
    "query = \"연봉 5천만원의 직장인의 소득세는 얼마인가요?\"\n",
    "llm = ChatOpenAI(model='gpt-3.5-turbo')"
   ]
  },
  {
   "cell_type": "code",
   "execution_count": 38,
   "metadata": {},
   "outputs": [],
   "source": [
    "\n",
    "from dotenv import load_dotenv\n",
    "from langchain import hub\n",
    "import os\n",
    "load_dotenv(dotenv_path='.venv/pyvenv.cfg')\n",
    "api_key = os.environ['OPENAI_API_KEY']\n",
    "prompt = hub.pull(\"rlm/rag-prompt\",api_key=api_key)"
   ]
  },
  {
   "cell_type": "code",
   "execution_count": 42,
   "metadata": {},
   "outputs": [],
   "source": [
    "# 어느 백터 디비를 사용해도 langchain을 사용한다면 같은 코드로 수행 가능\n",
    "\n",
    "from langchain.chains import RetrievalQA\n",
    "\n",
    "qa_chain = RetrievalQA.from_chain_type(\n",
    "    llm,\n",
    "    retriever = database.as_retriever(),\n",
    "    chain_type_kwargs={\"prompt\" : prompt}\n",
    ")"
   ]
  },
  {
   "cell_type": "code",
   "execution_count": 44,
   "metadata": {},
   "outputs": [],
   "source": [
    "ai_message = qa_chain({\"query\" : query})"
   ]
  },
  {
   "cell_type": "code",
   "execution_count": 45,
   "metadata": {},
   "outputs": [
    {
     "data": {
      "text/plain": [
       "{'query': '연봉 5천만원의 직장인의 소득세는 얼마인가요?',\n",
       " 'result': '제공된 문맥에서 연봉 5천만원의 직장인의 소득세는 알 수 없습니다.'}"
      ]
     },
     "execution_count": 45,
     "metadata": {},
     "output_type": "execute_result"
    }
   ],
   "source": [
    "ai_message"
   ]
  }
 ],
 "metadata": {
  "kernelspec": {
   "display_name": ".venv",
   "language": "python",
   "name": "python3"
  },
  "language_info": {
   "codemirror_mode": {
    "name": "ipython",
    "version": 3
   },
   "file_extension": ".py",
   "mimetype": "text/x-python",
   "name": "python",
   "nbconvert_exporter": "python",
   "pygments_lexer": "ipython3",
   "version": "3.11.1"
  }
 },
 "nbformat": 4,
 "nbformat_minor": 2
}
